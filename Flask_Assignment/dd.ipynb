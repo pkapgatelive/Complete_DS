{
 "cells": [
  {
   "cell_type": "code",
   "execution_count": 4,
   "metadata": {},
   "outputs": [
    {
     "name": "stdout",
     "output_type": "stream",
     "text": [
      "Converted input as integer: 3.4\n"
     ]
    }
   ],
   "source": [
    "# Get user input as a string\n",
    "user_input_str = input(\"Enter a floating-point number: \")\n",
    "\n",
    "\n",
    "# Convert the float to an integer\n",
    "user_input_int = float(user_input_str)\n",
    "\n",
    "# Display the result\n",
    "\n",
    "print(\"Converted input as integer:\", user_input_int)\n"
   ]
  },
  {
   "cell_type": "code",
   "execution_count": null,
   "metadata": {},
   "outputs": [],
   "source": []
  }
 ],
 "metadata": {
  "kernelspec": {
   "display_name": "base",
   "language": "python",
   "name": "python3"
  },
  "language_info": {
   "codemirror_mode": {
    "name": "ipython",
    "version": 3
   },
   "file_extension": ".py",
   "mimetype": "text/x-python",
   "name": "python",
   "nbconvert_exporter": "python",
   "pygments_lexer": "ipython3",
   "version": "3.9.12"
  },
  "orig_nbformat": 4
 },
 "nbformat": 4,
 "nbformat_minor": 2
}
