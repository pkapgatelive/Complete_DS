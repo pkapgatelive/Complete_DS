{
 "cells": [
  {
   "cell_type": "code",
   "execution_count": 1,
   "metadata": {},
   "outputs": [],
   "source": [
    "from flask import Flask, render_template, request,jsonify\n",
    "from flask_cors import CORS,cross_origin\n",
    "import requests\n",
    "from bs4 import BeautifulSoup as bs\n",
    "from urllib.request import urlopen as uReq"
   ]
  },
  {
   "cell_type": "code",
   "execution_count": 2,
   "metadata": {},
   "outputs": [],
   "source": [
    "searchstring = \"iphone11\"\n",
    "flipcart_url = \"https://www.amazon.in/s?k=\" + searchstring \n",
    "uclinet = uReq(flipcart_url)\n",
    "flipkart_page = uclinet.read()\n",
    "uclinet.close()\n",
    "flipkart_html = bs(flipkart_page, \"html.parser\")"
   ]
  },
  {
   "cell_type": "code",
   "execution_count": 3,
   "metadata": {},
   "outputs": [],
   "source": [
    "bigbox = flipkart_html.findAll(\"a\", {\"class\":\"a-link-normal s-underline-text s-underline-link-text s-link-style a-text-normal\"})\n",
    "\n"
   ]
  },
  {
   "cell_type": "code",
   "execution_count": 4,
   "metadata": {},
   "outputs": [
    {
     "data": {
      "text/plain": [
       "16"
      ]
     },
     "execution_count": 4,
     "metadata": {},
     "output_type": "execute_result"
    }
   ],
   "source": [
    "len(bigbox)"
   ]
  },
  {
   "cell_type": "code",
   "execution_count": 23,
   "metadata": {},
   "outputs": [
    {
     "name": "stdout",
     "output_type": "stream",
     "text": [
      "https://www.amazon.in/Apple-iPhone-13-128GB-Blue/dp/B09G9BL5CP\n",
      "https://www.amazon.in/Apple-iPhone-13-128GB-Blue/product-reviews/B09G9BL5CP?reviewerType=all_reviews\n",
      "https://www.amazon.in/Apple-iPhone-13-128GB-Starlight/dp/B09G9D8KRQ\n",
      "https://www.amazon.in/Apple-iPhone-13-128GB-Starlight/product-reviews/B09G9D8KRQ?reviewerType=all_reviews\n",
      "https://www.amazon.in/Apple-iPhone-15-Plus-128/dp/B0CHWZCY43\n",
      "https://www.amazon.in/Apple-iPhone-15-Plus-128/product-reviews/B0CHWZCY43?reviewerType=all_reviews\n",
      "https://www.amazon.in/Apple-iPhone-13-128GB-Midnight/dp/B09G9HD6PD\n",
      "https://www.amazon.in/Apple-iPhone-13-128GB-Midnight/product-reviews/B09G9HD6PD?reviewerType=all_reviews\n",
      "https://www.amazon.in/Apple-iPhone-13-128GB-Pink/dp/B09G9FPGTN\n",
      "https://www.amazon.in/Apple-iPhone-13-128GB-Pink/product-reviews/B09G9FPGTN?reviewerType=all_reviews\n",
      "https://www.amazon.in/Apple-iPhone-14-256GB-Blue/dp/B0BDJ1B1CS\n",
      "https://www.amazon.in/Apple-iPhone-14-256GB-Blue/product-reviews/B0BDJ1B1CS?reviewerType=all_reviews\n",
      "https://www.amazon.in/OnePlus-Sonic-Black-128GB-Storage/dp/B0BSNP46QP\n",
      "https://www.amazon.in/OnePlus-Sonic-Black-128GB-Storage/product-reviews/B0BSNP46QP?reviewerType=all_reviews\n",
      "https://www.amazon.in/IKALL-S2-Smartphone-Display-Storage/dp/B0CGRP13L3\n",
      "https://www.amazon.in/IKALL-S2-Smartphone-Display-Storage/product-reviews/B0CGRP13L3?reviewerType=all_reviews\n",
      "https://www.amazon.in/Apple-iPhone-Plus-128GB-Starlight/dp/B0BDJFTGK6\n",
      "https://www.amazon.in/Apple-iPhone-Plus-128GB-Starlight/product-reviews/B0BDJFTGK6?reviewerType=all_reviews\n",
      "https://www.amazon.in/Apple-iPhone-15-128-GB/dp/B0CHX1W1XY\n",
      "https://www.amazon.in/Apple-iPhone-15-128-GB/product-reviews/B0CHX1W1XY?reviewerType=all_reviews\n",
      "https://www.amazon.in/Apple-iPhone-15-Plus-128/dp/B0CHXCR9CX\n",
      "https://www.amazon.in/Apple-iPhone-15-Plus-128/product-reviews/B0CHXCR9CX?reviewerType=all_reviews\n",
      "https://www.amazon.in/Apple-iPhone-13-128GB-Green/dp/B09V4B6K53\n",
      "https://www.amazon.in/Apple-iPhone-13-128GB-Green/product-reviews/B09V4B6K53?reviewerType=all_reviews\n",
      "https://www.amazon.in/Apple-iPhone-15-128-GB/dp/B0CHX2F5QT\n",
      "https://www.amazon.in/Apple-iPhone-15-128-GB/product-reviews/B0CHX2F5QT?reviewerType=all_reviews\n",
      "https://www.amazon.in/Apple-iPhone-Plus-128GB-Midnight/dp/B0BDJKL7KM\n",
      "https://www.amazon.in/Apple-iPhone-Plus-128GB-Midnight/product-reviews/B0BDJKL7KM?reviewerType=all_reviews\n",
      "https://www.amazon.in/Apple-iPhone-14-128GB-Midnight/dp/B0BDHX8Z63\n",
      "https://www.amazon.in/Apple-iPhone-14-128GB-Midnight/product-reviews/B0BDHX8Z63?reviewerType=all_reviews\n",
      "https://www.amazon.in/Apple-iPhone-13-128GB-Product/dp/B09G99CW2N\n",
      "https://www.amazon.in/Apple-iPhone-13-128GB-Product/product-reviews/B09G99CW2N?reviewerType=all_reviews\n"
     ]
    }
   ],
   "source": [
    "customer_name_final = []\n",
    "customer_rating_final=[]\n",
    "customer_feedback_final = []\n",
    "\n",
    "for i in range(len(bigbox)):\n",
    "    url = \"https://www.amazon.in\"+bigbox[i]['href']\n",
    "    print(url)\n",
    "    #getting each iphone link\n",
    "    response = uReq(url)\n",
    "    # reading the each iphone response link\n",
    "    flipkart_html = bs(response.read(), \"html.parser\")\n",
    "    #Getting the complete review link\n",
    "    all_review = flipkart_html.find_all(\"a\", {\"data-hook\" : \"see-all-reviews-link-foot\"})\n",
    "    url = \"https://www.amazon.in\"+all_review[0]['href']\n",
    "    print(url)\n",
    "    response = uReq(url)\n",
    "    flipkart_html = bs(response.read(), \"html.parser\")\n",
    "\n",
    "    review_list = flipkart_html.findAll(\"div\", {\"id\": \"cm_cr-review_list\"})\n",
    "    # Customer Name\n",
    "\n",
    "    customer_name = review_list[0].findAll(\"div\",{\"class\":\"a-profile-content\"})\n",
    "    customer_rating = review_list[0].findAll(\"i\",{\"data-hook\":\"review-star-rating\"})\n",
    "    customer_feedback = review_list[0].findAll(\"span\",{\"data-hook\":\"review-body\"})\n",
    "\n",
    "\n",
    "    \n",
    "    for i in range(len(list(set(customer_name)))):\n",
    "        name = customer_name[i].span.text\n",
    "        if name not in customer_name_final:\n",
    "            customer_name_final.append(name)\n",
    "            customer_rating_final.append(customer_rating[i].text)\n",
    "            customer_feedback_final.append(customer_feedback[i].findAll(\"span\")[0].text)"
   ]
  },
  {
   "cell_type": "code",
   "execution_count": 21,
   "metadata": {},
   "outputs": [
    {
     "data": {
      "text/plain": [
       "['Akshay Mokashi',\n",
       " 'Keshav Maheshwari',\n",
       " 'Kindle RJ',\n",
       " 'Abhishek Jaiswal',\n",
       " 'Anand D.',\n",
       " 'Shrtuee',\n",
       " 'Abdullah Sayed',\n",
       " 'Placeholder',\n",
       " 'Sharafudheen',\n",
       " 'Chaitannya Supe',\n",
       " 'Amazon Customer',\n",
       " 'Arun',\n",
       " 'Subhamoy Goswami',\n",
       " 'Vani',\n",
       " 'Prasanna',\n",
       " 'Pratim Prajapati elite',\n",
       " 'Swapan Kumar Das',\n",
       " 'Kiran thapa',\n",
       " 'G Sreenivasulu',\n",
       " 'Jawahar Prabhu',\n",
       " 'shahid',\n",
       " 'Shashank Shekhar Ojha',\n",
       " 'Amit Singh',\n",
       " 'Sugandha sharma',\n",
       " 'Sahili',\n",
       " 'Ankush S.',\n",
       " 'Madhavi Pandruvada',\n",
       " 'BAPUN',\n",
       " 'Tejas Londhe',\n",
       " 'Sandeep mahajan',\n",
       " 'VETRIVEL AM',\n",
       " 'Rajkumar Bairwa',\n",
       " 'Deshraj',\n",
       " 'Mass Buyer',\n",
       " 'Vijay Raut',\n",
       " 'shashank agrawal',\n",
       " 'manish',\n",
       " 'said',\n",
       " 'Munfed khan',\n",
       " 'Mallajeet Sonowal',\n",
       " 'Seelu',\n",
       " 'Harry',\n",
       " 'Pritam Shetty',\n",
       " 'Gaurav',\n",
       " 'Mohan Jakkula',\n",
       " 'Sameer ',\n",
       " 'Manhan',\n",
       " 'Gokul',\n",
       " 'Sandy Cariappa',\n",
       " 'Sagar',\n",
       " 'subhadip manna',\n",
       " 'Adarsh',\n",
       " 'Shubham s.',\n",
       " 'tushar',\n",
       " 'Pradeep Thakur',\n",
       " 'Akshay']"
      ]
     },
     "execution_count": 21,
     "metadata": {},
     "output_type": "execute_result"
    }
   ],
   "source": [
    "customer_name_final"
   ]
  },
  {
   "cell_type": "code",
   "execution_count": 22,
   "metadata": {},
   "outputs": [
    {
     "data": {
      "text/plain": [
       "56"
      ]
     },
     "execution_count": 22,
     "metadata": {},
     "output_type": "execute_result"
    }
   ],
   "source": [
    "len(customer_name_final)"
   ]
  },
  {
   "cell_type": "code",
   "execution_count": 24,
   "metadata": {},
   "outputs": [
    {
     "data": {
      "text/plain": [
       "56"
      ]
     },
     "execution_count": 24,
     "metadata": {},
     "output_type": "execute_result"
    }
   ],
   "source": [
    "len(customer_rating_final)\n"
   ]
  },
  {
   "cell_type": "code",
   "execution_count": 25,
   "metadata": {},
   "outputs": [
    {
     "data": {
      "text/plain": [
       "['\\u200e \\u200e \\u200e \\u200e \\u200e \\u200e \\u200e \\u200e \\u200e \\u200e \\u200e \\u200e \\u200e \\u200e \\u200e \\u200e \\u200e \\u200e \\u200e \\u200e \\u200e \\u200e \\u200e \\u200e \\u200e \\u200e \\u200e \\u200e \\u200e \\u200e \\u200e \\u200e \\u200e \\u200e \\u200e \\u200e \\u200e \\u200e \\u200e \\u200e \\u200e \\u200e \\u200e \\u200e \\u200e \\u200e \\u200e \\u200e \\u200e \\u200e \\u200e \\u200e \\u200e \\u200e \\u200e \\u200e \\u200e \\u200e \\u200e \\u200e \\u200e \\u200e \\u200e \\u200e \\u200e \\u200e \\u200e \\u200e \\u200e \\u200e \\u200e \\u200e \\u200e \\u200e \\u200e \\u200e \\u200e \\u200e \\u200e \\u200e \\u200e \\u200e \\u200e \\u200e \\u200e \\u200e \\u200e \\u200e \\u200e \\u200e \\u200e \\u200e \\u200e \\u200e \\u200e \\u200e \\u200e \\u200e \\u200e \\u200e \\u200e \\u200e \\u200e \\u200e \\u200e \\u200e \\u200e \\u200e \\u200e \\u200e \\u200e \\u200e \\u200e \\u200e \\u200e \\u200e \\u200e \\u200e \\u200e \\u200e \\u200e \\u200e \\u200e \\u200e \\u200e \\u200e \\u200e \\u200e \\u200e \\u200e \\u200e \\u200e \\u200e \\u200e \\u200e \\u200e \\u200e \\u200e \\u200e \\u200e \\u200e \\u200e \\u200e \\u200e \\u200e \\u200e \\u200e \\u200e \\u200e \\u200e \\u200e \\u200e \\u200e \\u200e \\u200e \\u200e \\u200e \\u200e \\u200e \\u200e \\u200e \\u200e \\u200e \\u200e \\u200e \\u200e \\u200e \\u200e \\u200e \\u200e \\u200e \\u200e \\u200e \\u200e \\u200e \\u200e \\u200e \\u200e \\u200e \\u200e \\u200e \\u200e \\u200e \\u200e \\u200e \\u200e \\u200e \\u200e \\u200e \\u200e \\u200e \\u200e \\u200e \\u200e \\u200e \\u200e \\u200e \\u200e \\u200e \\u200e \\u200e \\u200e \\u200e \\u200e \\u200e \\u200e \\u200e \\u200e \\u200e \\u200e \\u200e \\u200e \\u200e \\u200e \\u200e \\u200e \\u200e \\u200e \\u200e \\u200e \\u200e \\u200e \\u200e \\u200e \\u200e \\u200e \\u200e \\u200e \\u200e \\u200e \\u200e \\u200e \\u200e \\u200e \\u200e \\u200e \\u200e \\u200e \\u200e \\u200e \\u200e \\u200e \\u200e \\u200e \\u200e \\u200e \\u200e \\u200e \\u200e \\u200e \\u200e \\u200e \\u200e \\u200e \\u200e \\u200e \\u200e \\u200e \\u200e \\u200e \\u200e \\u200e \\u200e \\u200e \\u200e \\u200e \\u200e \\u200e \\u200e \\u200e \\u200e \\u200e \\u200e \\u200e \\u200e \\u200e \\u200e \\u200e \\u200e \\u200e \\u200e \\u200e \\u200e \\u200e \\u200e \\u200e \\u200e \\u200e \\u200e \\u200e \\u200e \\u200e \\u200e \\u200e \\u200e \\u200e \\u200e \\u200e \\u200e \\u200e \\u200e \\u200e \\u200e \\u200e \\u200e \\u200e \\u200e \\u200e \\u200e \\u200e \\u200e \\u200e \\u200e \\u200e \\u200e \\u200e \\u200e \\u200e \\u200e \\u200e \\u200e \\u200e \\u200e \\u200e \\u200e \\u200e \\u200e \\u200e \\u200e \\u200e \\u200e \\u200e \\u200e \\u200e \\u200e \\u200e \\u200e \\u200e \\u200e \\u200e \\u200e \\u200e \\u200e \\u200e \\u200e \\u200e \\u200e \\u200e \\u200e \\u200e \\u200e \\u200e \\u200e \\u200e \\u200e \\u200e \\u200e \\u200e \\u200e \\u200e \\u200e \\u200e \\u200e \\u200e \\u200e \\u200e \\u200e \\u200e \\u200e \\u200e \\u200e \\u200e \\u200e \\u200e \\u200e \\u200e \\u200e \\u200e \\u200e \\u200e \\u200e \\u200e \\u200e \\u200e \\u200e \\u200e \\u200e \\u200e \\u200e \\u200e \\u200e \\u200e \\u200e \\u200e \\u200e \\u200e \\u200e \\u200e \\u200e \\u200e \\u200e \\u200e \\u200e \\u200e \\u200e \\u200e \\u200e \\u200e \\u200e \\u200e \\u200e \\u200e \\u200e \\u200e \\u200e \\u200e \\u200e \\u200e \\u200e \\u200e \\u200e \\u200e \\u200e \\u200e \\u200e \\u200e \\u200e \\u200e \\u200e \\u200e \\u200e \\u200e \\u200e \\u200e \\u200e \\u200e \\u200e \\u200e \\u200e \\u200e \\u200e \\u200e \\u200e \\u200e \\u200e \\u200e \\u200e \\u200e \\u200e \\u200e \\u200e \\u200e \\u200e \\u200e \\u200e \\u200e \\u200e \\u200e \\u200e \\u200e \\u200e \\u200e \\u200e \\u200e \\u200e \\u200e \\u200e \\u200e \\u200e \\u200e \\u200e \\u200e \\u200e \\u200e \\u200e \\u200e \\u200e \\u200e \\u200e \\u200e \\u200e \\u200e \\u200e \\u200e \\u200e \\u200e \\u200e \\u200e \\u200e \\u200e \\u200e \\u200e \\u200e \\u200e \\u200e \\u200e \\u200e \\u200e \\u200e \\u200e \\u200e \\u200e \\u200e \\u200e \\u200e \\u200e \\u200e \\u200e \\u200e \\u200e \\u200e \\u200e \\u200e \\u200e \\u200e \\u200e \\u200e \\u200e \\u200e \\u200e \\u200e \\u200e \\u200e \\u200e \\u200e \\u200e \\u200e \\u200e \\u200e \\u200e \\u200e \\u200e \\u200e \\u200e \\u200e \\u200e \\u200e \\u200e \\u200e \\u200e \\u200e \\u200e \\u200e \\u200e \\u200e \\u200e \\u200e \\u200e \\u200e \\u200e \\u200e \\u200e \\u200e \\u200e \\u200e \\u200e \\u200e \\u200e \\u200e \\u200e \\u200e \\u200e \\u200e \\u200e \\u200e \\u200e \\u200e \\u200e \\u200e \\u200e \\u200e \\u200e \\u200e \\u200e \\u200e .',\n",
       " \"I have seen that many Amazon users have been skeptical about purchasing iPhone from Darshita ezone or Darshita electronics. After I ordered the product red iPhone 13 from Darshita ezone, because of these negative reviews, even I got scared. However, I didn't cancel my order and decided to wait. Though Amazon delivered the order little late than I expected, I have received a genuine iPhone 13 product red. I checked the model number and IMEI number. All are perfect. Have been using the phone for almost 3 weeks now. Even updated to iOS 17. It's a gem. No issues. No problem. Heating is understandable during charging. But that's already expected. Thumbs up to both Amazon and Darshita ezone. And do I need to write about iPhone 13? It's awesome already.\",\n",
       " 'This is my first iPhone shifted from an android and gosh this is such an awesome phone, very well managed battery usage awesome camera video camera quality top of the line😍😍❤️ and plus it’s so smooth and no ads or bloatware apps like in android just superb only two issue slow battery charging and 60hz refresh rate feels lil bit slow my last device was of 120 hz',\n",
       " 'I was using old gen iphone previously, this is pretty good upgrade. The black color is really good first of all and the Performance is obviously more than enough for my usage, Camera quality and everything else is pretty good except the battery life because that’s alright and not the best as i have experienced better to be honest but it does provide battery life for a whole day till now and from what i’ve heard it will maintain to do so till it reaches approximately 95% battery health.',\n",
       " \"I am moving from Android to ios for the first time. It is been a marvelous experience to use iPhone. I regret now for being an android user. First of all the speed what they have mentioned as lightening speed yes i have experienced the lightening speed. Anything u share in whatsapp or any app u open it opens up in a flash. When I put the phone on charging it sometimes over heat the phone but now i have identified the reason for it too. Do not use the phone When on charging leave it untouched so that it won't over heat. No sort of pauses aur hanging issues at all.\",\n",
       " \"The iPhone 13 is, without a doubt, a game-changer. As an avid Apple user, I recently upgraded to this incredible device, and it has exceeded my already high expectations in every way. Here's why I am thoroughly impressed with the iPhone 13:Performance: The A15 Bionic chip is a powerhouse. It makes everything I do on my phone feel lightning-fast and seamless. Whether I'm gaming, streaming, or multitasking, the iPhone 13 handles it all effortlessly.Display: The Super Retina XDR display is a work of art. The colors are vivid, the brightness is exceptional, and the contrast is stunning. Whether I'm watching movies, browsing the web, or scrolling through social media, the visual experience is second to none.Camera: The camera system on the iPhone 13 is nothing short of amazing. It captures photos and videos with outstanding clarity and detail. The Night mode has been a game-changer for low-light photography, and the Cinematic mode for videos adds a whole new dimension to my creative endeavors.Battery Life: Apple has improved battery life on the iPhone 13, and it shows. I can go through an entire day of heavy usage without needing to reach for a charger. The battery management features are also impressive, ensuring I get the most out of every charge.iOS: The iPhone 13 runs on iOS, and the user experience is unmatched. The interface is intuitive, and the App Store offers a vast ecosystem of apps that enhance the device's capabilities.Design: The iPhone 13 boasts a sleek and premium design. It's durable and feels great in hand. The Ceramic Shield front cover offers extra protection, which is a welcome addition.5G Capability: The iPhone 13 is 5G-ready, which means I can experience lightning-fast data speeds and low latency, making it future-proof and ready for the latest advancements in mobile technology.Privacy and Security: Apple's commitment to user privacy and security is commendable. With features like Face ID and enhanced data protection, I feel confident that my personal information is in safe hands.In summary, the iPhone 13 is a stunning upgrade, delivering on Apple's legacy of innovation and excellence. It offers exceptional performance, a breathtaking display, a camera system that redefines mobile photography and videography, and a design that exudes luxury. This device is a testament to Apple's commitment to pushing the boundaries of what a smartphone can be. If you're looking for the best in the business, the iPhone 13 is it. I wholeheartedly recommend it to anyone seeking a top-tier mobile experience. It's worth every penny and more!\",\n",
       " \"DISPLAY IS 10/10 PEAK BRIGHTNESS IS CRAZYBATTERY LASTS A DAY WITHOUT ANY ISSUESIT TAKES ABOUT 45 MINUTES TO JUICE UP FROM 30% TO 90%TILL NO ISSUE WITH THE IOS 17.0.3 EVERYTHING IS SMOOTH AND THERE ARE LOT OF CUSTOMIZATION WHICH I LIKE THE MOSTSOUND IS CRYSTAL CLEAR AND LOUDCAMERA IS KIND OF AVERAGE FOR PHOTOS AND NIGHT PHOTOGRAPHY REALLY SUCKSBUT IN CASE OF VIDEO THIS PHONE IS BEYOND COMPARISONTHERE IS NO COMPETITION FOR IPHONE IN TERMS OF VIDEOGRAPHYIN HAND FEEL IS VERY NICE AND ESPECIALLY THE DESIGNFEELS VERY PREMIUM IN HANDI GOT IT FOR AROUND 43K IN BBDFOR 43K THERE IS NO BETTER PHONE THAN THISTHE ULTIMATE ALLROUNDERI'M HIGHLY SATISFIED WITH THE PURCHASE\",\n",
       " 'Performance',\n",
       " 'Outstanding camera clarity… battery heating while charging between 20%-70%',\n",
       " 'I have used redmi phones for almost 9 years including redmi note 4, note 7 pro, note 11 pro. I got bored to android and wanted some change so switched to iPhone. Redmi phones otherwise are awesome too.😊Following are my experiences based on 8 days usage:- Battery backup is very good.Scenario 1:I got 3 days of backup with light usage(picking up the calls, replying whatsapp, 30 minutes of gameplay (genshin impact). For 1 and half days, my phone was on battery saver mode. For the rest of duration it was on normal mode.Scenario 2: Only on normal mode with moderate usage it gives 2 days of backup with light usage.- Performance is awesome. Everything is buttery smooth from apps to games.- Latest ios 17 is good as well. I didnt felt much problems while switching from android to iphone. Many things are improved.- You can remove most of the inbuilt apple apps with ios 17.Things i love about iPhone over android (redmi phones):- flawless performance especially for gaming. No android can offer this level of smoothness.- excellent and all rounder camera.- more battery backup compared to any androidThings i love about android over iPhone:- android is more flexible than ios. e.g you can’t select all emails in gmail app in iphone. You cant close all background running apps in one shot like we do it in android.- apps are way better in terms of usability.- i personally found that ios has more bugs than android ( which can be felt by a common user). E.g. keyboard sound suddenly increases, not able to receive a call sometimes. Apple do resolve these in their updates but for a phone which costs this much it’s embarrassing.- too costly. People usually go for iphone when they get bored from android (my case) or to be a status symbol or who needs reliable phone for long run. But the things have changed now. Even android offers long term support now and they are but cheaper compared to iphone giving you more features and usability.Final verdict: iphone is allrounder phone in my opinion. Great camera, great performance, great battery life, great cost too😁. So if you need a change definitely go for it. Its a great phone.',\n",
       " 'Writing this review after 45 days. iPhone 15 plus is value for money phone. Working perfectly fine without any issues. Initially it had some hitting issue but it was resolved after iOS update.',\n",
       " 'Everything is absolutely great about this phone.',\n",
       " 'I was initially a bit worried about the form factor because of the size but the device is the perfect size for both work and entertainment. Apple never disappoints you.',\n",
       " 'Awesome',\n",
       " 'About the phoneApple phone without a second delay, I would say it is better than all android phones I have used. The phone is like water, it flows in a way you want and shaping in your way. In a best way possible, the phone is designed to only show what the user wants and eliminating unnecessary ads, features that I have seen in android.Why it is better than Android?You pay too much money for Apple products, obviously you experience the features, physical components , camera lens etc. Apart from basic things, you can also enjoy the best applications available in app store. If you are a developer you might know the app store policy for application publish and their security posture towards handling payment apps etc. They publish best application and the way the apps, its modules switches is just flawless. Due to the so called strict policy of privacy program with Apple products, iPhone can pop up a box in your screen if any apps wants to track your activity with other applications. +1 respect for apple to show such concern with user.Apple phones are same ? like 13 vs 14The reason 14 is same as 13 may be business practice followed from 11th edition. But please note that iPhone making changes internally like physical components (small change in battery performance, lens in 14 edition), additional features but that may not satisfy you to buy 14 edition. If you do not find \"the very few changes\" interesting in 14,  go for 13. Because physical and even cameras are not visually very much different in 13 vs 14 comparison. Also you get 13 for cheap :)14 is just added features but that is not for daily use, the features real time use is rare case. But the best part is there is no extra cost between 13 vs 14 prices (except extra 10k slash)Concern you must have.Apple is not giving chargers and their silicon cases are very expensive (but very good in touch and scratch friendly in back due to silk layer). This is an issue for sure. You have to buy charger not coming with USB C and claiming that you help carbon footprint, understandable but not customer friendly business model. Even after the purchase I had to spend at least 7k for charger and case.Apple care.I am not buying it, I pay for phone which is already expensive for this premium and apple care does have strict policy that if you understand that is waste. Instead I find a private insurance to make things better.',\n",
       " 'superb phone with good display and battery life. nice body',\n",
       " 'So beautiful,So elegant,just looking like a wow.Seriously you don’t have to read out all comments because it is apple.Everything is outstanding.Value for money depends on user.Otherwise no restriction,just go for it.',\n",
       " 'Hmm nice .',\n",
       " 'I purchased this phone in exchange offer. Value for money. Phone performance is good.',\n",
       " 'I bought this in july 16 and now my cable is not working',\n",
       " 'good quality. decent battery.  good camera .of course over priced but u pay for the brand .quality performance .no hanging . smooth simple.interface',\n",
       " 'Awesome phone 😊✌🏻',\n",
       " 'Quality is goodAnd what else need to say about apple. Everyone knows',\n",
       " 'Display is amazing, amazing sound quality, best in quality, good battery life',\n",
       " 'Thank god I got my hands on this amazing set..which is a limited time edition obviously \\U0001fae1😸 so happy I could manage to buy it on time..else it would have gone stock out everytime everywhere...but apart from that only one thing that I am struggling with this phone is that\" tempered glass\" it\\'s hard to find a tempered glass for curved display..and I went to OnePlus store for the glass they told me not to use uv glass ..so I am struggling a bit for a good tempered glass...apart from that..bang on performance....I can play games for a longer period of time without any lag with 80-86 fps...it rarely gives you 90fps..but honestly for me that doesn\\'t matter...80-86 fps is not bad at all .smooth gameplay trust me ...I can play 60fps with ultra HDR...that too smoothly... phone reach to 42°© after 4 hr of high gaming but..that doesn\\'t matter 4 hr play time you should take some rest let your eyes rest...and if I talk about its storage it\\'s 18 GB Ram +512 rom...boom boom and you can extend the ram upto 12 GB more 🤣\\U0001fae1what else you need ...camera is decent to me since I am not expecting it to perform like dslr effect..I am expecting it to give me every performance in a balanced way..so I am 100% satisfied with the phone since I have spent 46k for this phone I should feel  fully satisfied...only thing is that I am not into curved 3d display (personal preferences) but it\\'s in trend Today to make phone look expensive.. anyways...sound quality is unmatchable 🤣 seriously... one of my friend from my side room she complained me late night not to listen podcast with high volume since she was getting disturbed...she came from her room and told me ..so ofcourse I have to mention that here...myphone looks STUNNING AND ASTONISHING ❤️\\U0001faf6🏻..4 ⭐⭐⭐⭐ for now I will update it in future after 6 month of use... currently I am writing this after one month of use..so wait for me',\n",
       " 'The phone was good, but we feel slight difficult to hold it .Battery and charging -Batter lasts longs upto 6-8 hrs . Within less than 30min it\\'s getting charge to 100%Performance -The process sd 8+gen1 is very efficient but I compared this processor with sd 870 , there is almost just a slight difference between them.Camera-We know the OnePlus camera performs excellent , but this phone camera is just okay. It\\'s not up to the mark , we expect more from OnePlus and 45k segment phone. Camera is not that good.Software -I think oxygen OS is best but these days we can see some realme phone interface (disappointing)But we have many more features.Display -It\\'s pretty cool , just a \"wow\"Sound quality-It\\'s louder. Awesome..It\\'s having a IR blaster.Cons-1.It does not have IP certification.2.Camera is not that good.3.If you were a very heavy gamer , battery drains.4.We see some realme interface in it😵\\u200d💫😵\\u200d💫.',\n",
       " \"Bought the 16/256 GB OP11R variant in the GIF Sale. Phone is a complete package with a few nitpicking cons. First is the software experience which has been ruined by the integration of ColorOS with OnePlus's signature OxygenOS which makes it look like some cheap realme/Oppo phone. Encountered some bugs here and there in the UI (Hoping for fixes with timely updates as promised). The second downside of this phone I faced is the inconsistent battery life. I have been using the phone with the maximum refresh rate which is 120hz from day 1. Faced quick battery drains many times even with casual usage but these are inconsistent, as sometimes I get around a good 7-8 hours of SOT with same refresh rate and usage. So here I felt as if the battery performance is very irrational and depends on various usage scenarios.Apart from these issues, the phone is a complete package and a value for money deal for the ones who are looking for a good Android phone with flagship specifications. Thanks.\",\n",
       " \"Battery is good, fast charging supported charge phone within 25 min from 0-100%.If you play bgmi it's not good if you play at 90FPS  , the mobile heatup very high.Camera is decent you like shot clicked by one plus .Video recordering is also good👍\",\n",
       " \"I am using oneplus phone from almost 6 years, my last phone was Oneplus 5.Pros -Good UI as alwaysNo bloatwareCharging speed is greatGood 5g reception on both simsWifi works flawlessNo lag so farGives out a full day batteryCons -I am not sure whether it is camera or the camera optimisation, this phone doesn't gives out the best. Primary rear camera is of some use, other 2 are gimmicky and of no use.The color production and image processing has deteriorated with time. If you take a portrait shot, there is a extra lighting added on the edges of person body, the natural tone is long gone with 0 beautification. You need to relay on post-processing.I am not a photo enthusiast but like to capture good moments. Videos are very average, you can easily compare them with any 20k phone camera. OIS works fine. A big NO if you are looking for a phone with a great camera.Sometimes battery heats up\",\n",
       " \"I'm absolutely thrilled with my purchase. The phone is sleek and stylish, display is perfect for streaming videos and browsing the web. The camera is also amazing - the pictures are clear and vibrant, battery life is impressive, lasting me a full day with moderate use\",\n",
       " '∆Pros• one of the best display under 40,000 alongwith 1.5k fhd++ resolution..•battery backup is fantastic, hardcore users get 6.5hrs of sot(screen on time) easily., even charging speed is lit.•This phone comes with 8+gen1 which will easily give you Power to do utmost heavy tasks ..•Oxygen Os is one of the best Android UI in the stock Android list today ..even after merging with color os , OnePlus UI is still smooth ..∆Cons•Camera is good as it comes with IMX890 sensor but even at this price they are not providing a telephoto lens which feels missing.• Even if you buy 16gb 256gb variant you are not getting UFS4.0 which is missing at this price point.•Sd8+gen1 heats a little bit but this is not what you want at 45k .(although I got this at 40k during Amazon festive sale) ..',\n",
       " 'This mobile processer is very bad and slow workCamera quality is very low qualityInternet speed is not good',\n",
       " 'Must buy,good processor,good battery life awesome colour best value for money it I s very good........Th x x x x',\n",
       " 'Worst phone ever I used | offline purchasedWorst phone ever I used | offline purchasedWorst phone ever I used | offline purchased',\n",
       " \"Don't waste money on this , this is featured phone featured you can get much better at this price do search before by\",\n",
       " \"NYC phone Amazing and goodIt's very cute and beautiful so I bought it from Amazon India . Must buy item\",\n",
       " 'Good',\n",
       " \"Phone's performance is really appreciable. Camera quality is good. Phone ka look toh kamaal hi hai😍 bilkul premium feel de rha hai!\",\n",
       " 'Love the product amazing camera quality and speed of the product is very good will recommend everyone to go for it',\n",
       " 'I am writing this review after using it for1 month. This is my first apple device. I upgraded from OP7T to this device. My prime requirement was superior battery life and looking for an overall decent good phone. So I was initially inclined to buying OP 11 but ever since OP was acquired by VIVO, I felt that OP has lost its originality and as a result my interest for OP11 was somehow withdrawn.  After one month of usage of IP14+,  I find that in some aspect IOS is superior to android and in some other aspects android is superior to IOS. As a very normal mobile phone user, I’ll try to highlight the difficulties and good aspects of the device I noticed while using it for the last one month:Pros:1. Battery life is outstanding. When I was using single sim, I was having 40-42 hrs. of battery backup with moderate usage ( I don’t play games, moderate usage includes streaming content in Netflix, Hotstar etc. for 2-3 hrs.). When I started using duel sim also, the battery life is easily lasting for more than 36 hrs.2. I absolutely liked the Face ID feature and I really appreciate the security features offered by IOS. Be it for banking app or for any other apps, no unnecessary third party apps are required for protection & privacy of apps. My child can’t install any gaming app without my Faceid and it is such a relief.3. Astounding sound quality. This phone bar delivers amazing sound output. You’ll experience absolute satisfaction while watching content in this phone with such high quality sound output. My wife is using Galaxy S22 Ultra and I find that the sound output of IP14+ is superior to this.4. I read that screen refresh rate is 60Hz, but it hardly mattered to me. I could not notice any distraction due to this in my day to day activities. But I must say that watching content in S22 Ultra is more eye-pleasing but this does not mean that screen quality of IP14+ is any less than the S22 series.5. Duel 12 megapixel camera offers you such incredible picture quality that many flagship android phones with triple/ quadruple camera having fancy megapixels should feel ashamed of. Day or night , you get awesome photos. No unnecessary beautifying of photos , you simply see what you click. If I look bad, the camera will show me just like that. Video quality is also great specially in cinematic mode.6. Lesser battery & lesser ram than most of the android phones out there but performs like a beast non-stop.Cons:1. Android is so easy to use. It gives you the liberty to do as per your own terms. As a very normal user of mobile , simple activities like toggling with SIM data, choosing the sim to call, auto connection of Bluetooth with car (once it is paired), browsing the file manager, copying & pasting any files to & from the mobile device, connecting a SSD / pen drive etc. is such a piece of cake in android phones.  In IOS, calls will only go from the primary sim. You do not get the choice of selecting the sim to call your contacts. You can call a contact from your secondary sim only if you received a call from the caller in the secondary sim. I normally toggle between Jio & Airtel for mobile data. Toggling the mobile data is so damn easy in android phones through drop down menu but in IOS I have to go to settings everytime to select the primary / secondary sim for default data.2. File browsing in IOS is another nightmare for me. In 1 month I started missing the android file browsing utility. I can not copy a file from external source (pendrive / ssd) to iphone.  When connected to PC, I am only allowed to copy camera photos and videos to PC. May be IOS is restricting all these to enhance security of the device which I really appreciate but can’t help forgetting the swiftness of android handling all these shortcomings.3. Can you imagine, the calculator app can not handle any sum involving more than 9 digits.4. As I said camera in this phone is great. But I paid 90 thousand for the phone and for the price paid for I at least deserved a macro lens and 3x optical zoom lens in the camera system. Forget about macro photography & zooming if you are sticking with non-pro versions.Anyways, pro’s & con’s makes a product perfect. Despite all the shortfalls which are bothering me,  I liked this device because in many other important aspects it outperformed other flagship android devices. In the end  I must say, for battery, ram management and security IOS rocks and for ease of use android rocks.',\n",
       " 'I have all the apple products except for the iPhone. This is my first iPhone after sticking to android for 12 years.Main reason was for battery and I give full marks to apple for optimisationSoft ware and hardware complement each other. I know most of them debate android vs apple, my opinion is that apple maintains consistency and keeps on optimising its OS and also has clear vision on privacyI’m happy overall',\n",
       " \"I recently made the switch from Android to the iPhone 14 Plus, and it has been a remarkably smooth transition. Here are some key points about my experience:1. Seamless Setup: Setting up my new iPhone was a breeze. Apple's migration tool effortlessly transferred all my contacts, photos, and apps from my Android device. It was a stress-free process that ensured I didn't lose any important data.2. Intuitive User Interface: The iOS interface on the iPhone 14 Plus is incredibly user-friendly. Navigating through the device, customizing settings, and finding apps is straightforward, even for someone who was accustomed to Android.3. Performance: The iPhone 14 Plus packs a powerful punch. The device runs smoothly, and apps load quickly. Multitasking is a breeze, thanks to the robust hardware and optimized software.4. Display: The OLED display on the iPhone 14 Plus is stunning. Colors are vibrant, and the screen is sharp and clear. It's a joy to use for watching videos, browsing, and gaming.5. Camera: The camera quality on the iPhone 14 Plus is exceptional. The photos and videos captured are rich in detail and clarity. The advanced camera features and modes provide ample opportunities for creativity.6. App Ecosystem: The App Store offers a vast selection of high-quality apps that enhance the iPhone experience. I found all my favorite Android apps and discovered some excellent iOS exclusives.7. Privacy and Security: Apple's commitment to user privacy and security is evident. Features like App Tracking Transparency and Face ID add an extra layer of protection.8. Battery Life: The battery life on the iPhone 14 Plus is impressive. I can comfortably go through a day of heavy usage without worrying about running out of power.In conclusion, my transition from Android to the iPhone 14 Plus has been a positive one. The device offers a premium experience with a top-notch camera, excellent performance, and an ecosystem that keeps everything well-integrated. If you're considering the switch, I highly recommend it for a seamless and satisfying smartphone experience.\",\n",
       " 'It such a nice phone I am using that phone since las one month and battery backup is such better that other android phones and graphics and video quality is much better such nice phone in 70 k …no compare with any other phone',\n",
       " 'Its a big myth that Android phone are better than iPhone. I was with samsung flag ship mobile previously and Samsung never come even close to iPhone in any aspect. After saying this, there is no need to discuss any other android phones in the market.You only understand this beauty only once you use it. Go for it. The battery life is outstanding. The display, look and feel and the seem less fluidic way of its presence is immaculate.The 14 Plus - a class apart phone.',\n",
       " 'Great product and long life battery value for money 💰',\n",
       " 'Good product',\n",
       " 'It’s my first iphone and i see that it has a verygood battery life, as I’ve used it for  15-16 days and one single charge upto 100% can easily hold till 2complete days, in one charge cycle I’ve watched6eposids of 30mins each and a movie of 2hr25min.Overall batter is really osm, I didn’t expect this from iphone. I usually keep the power between 30% to 80% and this holds for 1 to 1(1/2) in a decent use of continuous screen time about 5 to 6hrs smoothly.Well battery is good..(single battery% stands for 9-10minutes on light usage if rough usage then 7-8min definitely)Now come to it’s performance,Obviously with appleA15 chipset it’s really soo smooth, overall having a 60hz display while all ther brand are running with 120hz display. But still i say it is smooth to a good decent level.If i come to gaming side, no doubt u can go for it, but as its display is 60hz it may get u some change if u are a heavy gamer(I’m don’t play much games😅)Well come to the camera part,Obviously iPhones are verywell known for their camera quality, compared to pro series it has only 12+12 Mp camera setup it doesn’t have 48mp setup as pro. But still it best pics as good as pro.On screen brightness I not impressed with it, It’s not that bright to see under heavy sunlight quite difficult but can be seen but not clear.Well compared to pro, pro can be easily seen under heavy sun easily without any difficulties. Can be seen clearly.On waterproof, no doubt you can swim with it 😅I’ve done it twice and daily I carry it while I’m bathing.Definitely 👍 good.On build quality, screen with ceramic display it’s really soo durable, I’ve placed screen on heavy surfaces without tempered glass and i can’t see any scratches on the screen. But edges are quite disappointing with aluminium frame is quite delicate on third day after buying it slipped from my had on one side of edge and boom it shot with a slight dent on edge.If i talk about Speakers they are really good and easily audible at a heavy traffic noise too. Overall speakers are good 👍Overall i can say it’s worth to spend 80k on this mobile.So you can go for it.',\n",
       " 'The phone is a standard iPhone blown up to the pro max proportion. While tech reviewers might consider this phone a failure , for those who need a good battery and a large screen will love this.In the us as price difference between this and pro max is 200 , people will scale up and get that. However in India the price difference between this a pro max can get you an iPhone 12/13 itself. So it works best for the price.89999 is expensive but I picked it up in the sale for 71 with some more cash back thrown in. Now the value promise is damn enticing.As it uses the 13pro’s A15 processor and 2 back cameras from the 13pro , it’s no slouch. In the battery department as it’s a shameful 60hz display that it has to power , it lasts long. The lack of pro-motion display on a phone at this price point is a disgrace when even phones at half the price come with super amoled 120hz displaysThat aside , as I use it exclusively for work I am happy with it. I take all my WebEx meetings from here and slack and outlook at refreshed fanatically when I’m on the move. I can read all the documents and not worry about eye strain.I am not the best judge for camera as I use this only to capture moments rather than insta pics etc. but it takes decent photos. Post processing may not be for all.Summarizing , it’s a good phone for a slightly inflated price point.  It does a damn good job in being a phone that lasts long.Update : after using it extensively for 2 weeks i charge it once in about 30-40 hours and this is not an exaggeration. I charge before i go to sleep and it lasts me the whole next day night + till the day after till noon or 2pm. This has been consistent behaviour with about 4-5 hours of screen on time.',\n",
       " 'Just made the transition and here’s my POV on the first ~2 month of usePros- Battery Life is awesome, easily get about a day plus on this, so no Compliants- Screen fluidity is smooooooth! Understandable as I’m transitioning into an OLED from LCD in XR. The panel gets a solid peak brightness quotient so happy here- Screen brightness is good as compared to XR, 2200 nits, but I hardly go beyond 30% brightness to save some juice. Whilst outside I did crank it up and it’s spotless- Dynamic Island is fun, yet to use it to the fullest. Like the way it shows the ETA on delivery and Uber. Simple solution instead of you having to get into the app to check on the ETA- Weight, this phone is soo bloody light!! Understandable as XR was a brick, this is soo welcome- Camera is awesome, love the 48MP intervention, the portrait mode and cinematic mode does the job for me.- The Apple eco system, I enjoy seamless integration of my Watch, Mac, IPad Air and IPhone- Apples approach on Security!- Transferring data from my XR to 15 using the built in app is flawlessCons- The phone was over heating until I updated it to 17.1.X, now it’s back to normalcy- I still believe Apple should thrown in a charging brick with such purchasesIndustry memes- USB C : honestly don’t give a jack for the reviews out there on this. It’s just a mode of charging for me and that’s it. I’m not going to be transferring any data so yea, 2.0 speed yadadada - thank you so much- Blue is not blue but white! Think people whining about this should go back to 13/14 or those ludicrous blues in Androids!! These are pestle shades people!!- Buying an Apple product to show off!! I mean, you even serious? You buy a product and then comment on why you should not buy one?- 60hz refresh rate for a 80k phone : save your jokes people, there are many of us who appreciate quality and security than how the screen refreshes. For non gamers like me, panel that is here is apt. I’ve seen a ton of folks buying 120hz phones and using it only to make calls, watch some videos and for textingTips of managing battery health- Switch off background app refresh for apps you don’t need back ground refresh- Avoid wireless charging as this heats your devise up- I charge my phone only using a power bank  not direct wired or wireless charging- Don’t let the battery go below 20%, keep it always between 95% and 20%- Switch off location services and allow only certain app that needs your location service- Switch on Charging Optimisation under the battery section- I don’t use vibrate mode for rings/incoming calls etc- My XR after 5 years of use has 86% battery health so I guess I know what I’m recommending aboveVendor Experience : Appario Retail Private Limited. 5/5, been a regular customer and they have never disappointed me even once. The purchase experience is breezy and quick, thanks team for the support and look forward to the collaboration in the future.….. watch out for this space. Will keep updating in case of significant change in experience',\n",
       " 'Heats up, Camera is good only at daylight. Night photos are pathetic and artificial no to buy',\n",
       " \"Everyone know about pros , let's only talk about consBattery : worst than I expect . Many says it is iOS 17 behind poor battery life . Hardly 3-4 he if you travelling and your network changes frequently .. worst than my android devices .Performance : no doubt in performance , it's the best in the industry ,Camera : undoubtably very good in camera dipartment but I hardly take photos 😁iOS : verry smooth and many good things are missing . Call recording , call pick up haptic , smart dial and many more little but verry important feature ..Many youtuber says there is no such use of dynamic island but listen to me it is verry usefull and looking cool tooPrice : obviously it's not value for money but it's far better than 13 and 14 launch price which is same . Although this time iPhone 15 far better than 15 pro\",\n",
       " 'Phone is overall a beast specially in terms of battery and camera it has improved a lot, display is also brighter compared to the old ones, a little upgrade in processor too and dynamic island is an add on to it which looks cool and will give you feel of a pro.There is nothing much difference between 60 and 120 hrtz considering the price because 60 hrtz of an iphone is much smoother than a android one.Im using this device from few days and only problem im facing that this phone is heating specially when you are updating to new ios so dont worry it happens when you update to newer ios.im Using 20 watt charger and its performing very well to my phone with little warm feeling which is normal due to fast charging.Dont think too much about battery health because you have spend a lot for this tech so use it without anxiety to its highest capacity.',\n",
       " \"Finally shifted from Android. It's a fact x feeling though kept my Android with me just in case needed something as slowly learning iOS .So far so good happy with the purchase. Now can flaunt I too have iphone :)\",\n",
       " 'Heating issue still persists even after updating it to 17.0.3, rest of things are meeting my expectations.',\n",
       " \"The phone looks same as previous years but the finish on this phone is fantastic. The size is perfect and the ios is easy to use.No heating issues until now(I don't game) but for all work related tasks it's blazing fast.Battery life is more than enough for a days use with medium to high usage.\",\n",
       " 'Going well']"
      ]
     },
     "execution_count": 25,
     "metadata": {},
     "output_type": "execute_result"
    }
   ],
   "source": [
    "customer_feedback_final"
   ]
  },
  {
   "cell_type": "code",
   "execution_count": 26,
   "metadata": {},
   "outputs": [],
   "source": [
    "# Create one dataframe from the variables customer_name_final, customer_rating_final, and customer_feedback_final\n",
    "\n",
    "import pandas as pd\n",
    "\n",
    "# Assuming customer_name_final, customer_rating_final, and customer_feedback_final are lists or arrays\n",
    "data_ = pd.DataFrame({\n",
    "    'customer_name': customer_name_final,\n",
    "    'customer_rating': customer_rating_final,\n",
    "    'customer_feedback': customer_feedback_final\n",
    "})\n"
   ]
  },
  {
   "cell_type": "code",
   "execution_count": 28,
   "metadata": {},
   "outputs": [
    {
     "data": {
      "text/html": [
       "<div>\n",
       "<style scoped>\n",
       "    .dataframe tbody tr th:only-of-type {\n",
       "        vertical-align: middle;\n",
       "    }\n",
       "\n",
       "    .dataframe tbody tr th {\n",
       "        vertical-align: top;\n",
       "    }\n",
       "\n",
       "    .dataframe thead th {\n",
       "        text-align: right;\n",
       "    }\n",
       "</style>\n",
       "<table border=\"1\" class=\"dataframe\">\n",
       "  <thead>\n",
       "    <tr style=\"text-align: right;\">\n",
       "      <th></th>\n",
       "      <th>customer_name</th>\n",
       "      <th>customer_rating</th>\n",
       "      <th>customer_feedback</th>\n",
       "    </tr>\n",
       "  </thead>\n",
       "  <tbody>\n",
       "    <tr>\n",
       "      <th>0</th>\n",
       "      <td>Akshay Mokashi</td>\n",
       "      <td>5.0 out of 5 stars</td>\n",
       "      <td>‎ ‎ ‎ ‎ ‎ ‎ ‎ ‎ ‎ ‎ ‎ ‎ ‎ ‎ ‎ ‎ ‎ ‎ ‎ ‎ ‎ ‎ ‎ ...</td>\n",
       "    </tr>\n",
       "    <tr>\n",
       "      <th>1</th>\n",
       "      <td>Keshav Maheshwari</td>\n",
       "      <td>5.0 out of 5 stars</td>\n",
       "      <td>I have seen that many Amazon users have been s...</td>\n",
       "    </tr>\n",
       "    <tr>\n",
       "      <th>2</th>\n",
       "      <td>Kindle RJ</td>\n",
       "      <td>5.0 out of 5 stars</td>\n",
       "      <td>This is my first iPhone shifted from an androi...</td>\n",
       "    </tr>\n",
       "    <tr>\n",
       "      <th>3</th>\n",
       "      <td>Abhishek Jaiswal</td>\n",
       "      <td>5.0 out of 5 stars</td>\n",
       "      <td>I was using old gen iphone previously, this is...</td>\n",
       "    </tr>\n",
       "    <tr>\n",
       "      <th>4</th>\n",
       "      <td>Anand D.</td>\n",
       "      <td>5.0 out of 5 stars</td>\n",
       "      <td>I am moving from Android to ios for the first ...</td>\n",
       "    </tr>\n",
       "  </tbody>\n",
       "</table>\n",
       "</div>"
      ],
      "text/plain": [
       "       customer_name     customer_rating  \\\n",
       "0     Akshay Mokashi  5.0 out of 5 stars   \n",
       "1  Keshav Maheshwari  5.0 out of 5 stars   \n",
       "2          Kindle RJ  5.0 out of 5 stars   \n",
       "3   Abhishek Jaiswal  5.0 out of 5 stars   \n",
       "4           Anand D.  5.0 out of 5 stars   \n",
       "\n",
       "                                   customer_feedback  \n",
       "0  ‎ ‎ ‎ ‎ ‎ ‎ ‎ ‎ ‎ ‎ ‎ ‎ ‎ ‎ ‎ ‎ ‎ ‎ ‎ ‎ ‎ ‎ ‎ ...  \n",
       "1  I have seen that many Amazon users have been s...  \n",
       "2  This is my first iPhone shifted from an androi...  \n",
       "3  I was using old gen iphone previously, this is...  \n",
       "4  I am moving from Android to ios for the first ...  "
      ]
     },
     "execution_count": 28,
     "metadata": {},
     "output_type": "execute_result"
    }
   ],
   "source": [
    "data_.head()"
   ]
  },
  {
   "cell_type": "code",
   "execution_count": null,
   "metadata": {},
   "outputs": [],
   "source": []
  }
 ],
 "metadata": {
  "kernelspec": {
   "display_name": "base",
   "language": "python",
   "name": "python3"
  },
  "language_info": {
   "codemirror_mode": {
    "name": "ipython",
    "version": 3
   },
   "file_extension": ".py",
   "mimetype": "text/x-python",
   "name": "python",
   "nbconvert_exporter": "python",
   "pygments_lexer": "ipython3",
   "version": "3.9.12"
  },
  "orig_nbformat": 4
 },
 "nbformat": 4,
 "nbformat_minor": 2
}
